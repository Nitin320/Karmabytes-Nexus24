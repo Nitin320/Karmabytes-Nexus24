{
 "cells": [
  {
   "cell_type": "code",
   "execution_count": 3,
   "id": "1f97a4dd-1c9b-450f-baee-c231e83b70e9",
   "metadata": {},
   "outputs": [
    {
     "ename": "ModuleNotFoundError",
     "evalue": "No module named 'cvzone.ClassificationModule'",
     "output_type": "error",
     "traceback": [
      "\u001b[1;31m---------------------------------------------------------------------------\u001b[0m",
      "\u001b[1;31mModuleNotFoundError\u001b[0m                       Traceback (most recent call last)",
      "Cell \u001b[1;32mIn[3], line 1\u001b[0m\n\u001b[1;32m----> 1\u001b[0m \u001b[38;5;28;01mfrom\u001b[39;00m \u001b[38;5;21;01mcvzone\u001b[39;00m\u001b[38;5;21;01m.\u001b[39;00m\u001b[38;5;21;01mClassificationModule\u001b[39;00m \u001b[38;5;28;01mimport\u001b[39;00m Classifier\n\u001b[0;32m      2\u001b[0m \u001b[38;5;28;01mimport\u001b[39;00m \u001b[38;5;21;01mcv2\u001b[39;00m\n\u001b[0;32m      4\u001b[0m cap \u001b[38;5;241m=\u001b[39m cv2\u001b[38;5;241m.\u001b[39mVideoCapture(\u001b[38;5;241m0\u001b[39m)  \u001b[38;5;66;03m# Initialize video capture\u001b[39;00m\n",
      "\u001b[1;31mModuleNotFoundError\u001b[0m: No module named 'cvzone.ClassificationModule'"
     ]
    }
   ],
   "source": [
    "from cvzone.ClassificationModule import Classifier\n",
    "import cv2\n",
    "\n",
    "cap = cv2.VideoCapture(0)  # Initialize video capture\n",
    "path = \"./Resources/Model\"\n",
    "maskClassifier = Classifier(f'{path}/keras_model.h5', f'{path}/labels.txt')\n",
    "\n",
    "while True:\n",
    "    _, img = cap.read()  # Capture frame-by-frame\n",
    "    prediction = maskClassifier.getPrediction(img)\n",
    "    cv2.imshow(\"Image\", img)\n",
    "    if(prediction[1]==0):\n",
    "        print(\"Nothing\")\n",
    "    elif(prediction[1]==1):\n",
    "        print(\"Zip-top cans - Non Biodegradable\")\n",
    "    elif(prediction[1]==2):\n",
    "        print(\"Newspaper\")\n",
    "    elif(prediction[1]==3):\n",
    "        print(\"Old shoes\")\n",
    "    elif(prediction[1]==4):\n",
    "        print(\"Watercolor pen\")\n",
    "    elif(prediction[1]==5):\n",
    "        print(\"Disinfectant\")\n",
    "    elif(prediction[1]==6):\n",
    "        print(\"Battery\")\n",
    "    elif(prediction[1]==7):\n",
    "        print(\"Vegetable leaf\")\n",
    "    cv2.waitKey(1)  # Wait for a key press"
   ]
  }
 ],
 "metadata": {
  "kernelspec": {
   "display_name": "Python 3 (ipykernel)",
   "language": "python",
   "name": "python3"
  },
  "language_info": {
   "codemirror_mode": {
    "name": "ipython",
    "version": 3
   },
   "file_extension": ".py",
   "mimetype": "text/x-python",
   "name": "python",
   "nbconvert_exporter": "python",
   "pygments_lexer": "ipython3",
   "version": "3.9.0"
  }
 },
 "nbformat": 4,
 "nbformat_minor": 5
}
